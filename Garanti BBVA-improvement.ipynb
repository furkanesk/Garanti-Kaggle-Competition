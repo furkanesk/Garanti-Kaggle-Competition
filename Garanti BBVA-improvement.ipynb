{
 "cells": [
  {
   "cell_type": "code",
   "execution_count": null,
   "metadata": {},
   "outputs": [],
   "source": [
    "import pandas as pd\n",
    "import numpy as np\n",
    "import matplotlib.pyplot as plt\n",
    "import seaborn as sns"
   ]
  },
  {
   "cell_type": "code",
   "execution_count": null,
   "metadata": {},
   "outputs": [],
   "source": [
    "train_data = pd.read_csv(\"C://Users/Furkan/Desktop/onlinedatasciencechallenge/train.csv\")\n",
    "test_input = pd.read_csv(\"C://Users/Furkan/Desktop/onlinedatasciencechallenge/test_input.csv\")\n",
    "columns = ['ACCMVMTAVG', 'ACCAMNTAVG03', 'ACCACVNUM12', 'ACCAMNTAVG12',\n",
    "       'CARDDINSUM12', 'INTPHNNUM03', 'INTLOGNUM12', 'DEMINFO1', 'DEMINFO2', 'CRRASTALL', 'ASTAVGDIF0312',\n",
    "       'DESACCUAMNT', 'CONTPAIDAMNT00', 'CONTPAIDAMNT01', 'CONTPAIDAMNT02',\n",
    "       'CONTPAIDAMNT03', 'CONTPAIDAMNT04', 'CONTPAIDAMNT05', 'CONTPAIDAMNT06',\n",
    "       'CONTPAIDAMNT08', 'CONTPAIDAMNT09', 'CONTPAIDAMNT10', 'CONTPAIDAMNT11',\n",
    "       'CONTMONTHAMNT', 'RTRNDESVAMNT', 'MAXTIMECONTR', 'CONTCOLLAMNT']\n",
    "\n",
    "testcolumns = ['ACCAMNTAVG03', 'CRRASTALL', 'DESACCUAMNT',\n",
    "            'CONTPAIDAMNT00', 'CONTPAIDAMNT01', 'CONTPAIDAMNT02',\n",
    "       'CONTPAIDAMNT03', 'CONTPAIDAMNT04', 'CONTPAIDAMNT05', 'CONTPAIDAMNT06',\n",
    "       'CONTPAIDAMNT08', 'CONTPAIDAMNT09', 'CONTPAIDAMNT10', 'CONTPAIDAMNT11',\n",
    "       'CONTMONTHAMNT', 'RTRNDESVAMNT', 'CONTCOLLAMNT']\n",
    "\n",
    "columns2 = ['ADDCONTAMNT','ACCAMNTAVG03', 'CRRASTALL', 'DESACCUAMNT',\n",
    "            'CONTPAIDAMNT00', 'CONTPAIDAMNT01', 'CONTPAIDAMNT02',\n",
    "       'CONTPAIDAMNT03', 'CONTPAIDAMNT04', 'CONTPAIDAMNT05', 'CONTPAIDAMNT06',\n",
    "       'CONTPAIDAMNT08', 'CONTPAIDAMNT09', 'CONTPAIDAMNT10', 'CONTPAIDAMNT11',\n",
    "       'CONTMONTHAMNT', 'RTRNDESVAMNT', 'CONTCOLLAMNT']\n",
    "\n",
    "col3 = ['CONTPAIDAMNT00', 'CONTPAIDAMNT01', 'CONTPAIDAMNT02',\n",
    "       'CONTPAIDAMNT03', 'CONTPAIDAMNT04', 'CONTPAIDAMNT05', 'CONTPAIDAMNT06',\n",
    "       'CONTPAIDAMNT08', 'CONTPAIDAMNT09', 'CONTPAIDAMNT10', 'CONTPAIDAMNT11','CRRASTALL']\n",
    "\n",
    "#,\"LASTAUTOPAYTIME\",\"TIMEDEPAVG12\",\"BLNAMNT03\",'ACCAMNTAVG03'"
   ]
  },
  {
   "cell_type": "code",
   "execution_count": null,
   "metadata": {},
   "outputs": [],
   "source": [
    "train_col = train_data[columns2]\n",
    "test_col = test_input[testcolumns]\n",
    "for i in col3:\n",
    "    median = train_col.loc[train_col[\"ADDCONTAMNT\"] == 0].median()[i]\n",
    "    train_col.loc[train_col[i].isnull(), i] = median\n",
    "    test_col.loc[test_col[i].isnull(), i] = median\n",
    "\n",
    "train_col.loc[train_col[\"ACCAMNTAVG03\"].isnull(), \"ACCAMNTAVG03\"] = train_col[\"ACCAMNTAVG03\"].mean()\n",
    "test_col.loc[test_col[\"ACCAMNTAVG03\"].isnull(), \"ACCAMNTAVG03\"] = test_col[\"ACCAMNTAVG03\"].mean()"
   ]
  },
  {
   "cell_type": "code",
   "execution_count": null,
   "metadata": {},
   "outputs": [],
   "source": [
    "train_data.sort_values(\"ADDCONTAMNT\",ascending=False).head(20)"
   ]
  },
  {
   "cell_type": "code",
   "execution_count": null,
   "metadata": {},
   "outputs": [],
   "source": [
    "#train_data[\"class\"] = pd.qcut(train_data.ADDCONTAMNT, q=[0, .9, 1],labels=[\"az\",\"orta\"])\n",
    "train_data.head(30)"
   ]
  },
  {
   "cell_type": "code",
   "execution_count": null,
   "metadata": {},
   "outputs": [],
   "source": [
    "#upper_lim = train_data[\"ADDCONTAMNT\"].quantile(.95)\n",
    "#lower_lim = train_data[\"ADDCONTAMNT\"].quantile(.05)\n",
    "#\n",
    "#upper_lim = train_data[\"ADDCONTAMNT\"].mean () + train_data[\"ADDCONTAMNT\"].std () * 3\n",
    "#lower_lim = train_data[\"ADDCONTAMNT\"].mean () - train_data[\"ADDCONTAMNT\"].std () * 3\n",
    "#\n",
    "#train_data = train_data[(train_data[\"ADDCONTAMNT\"] < upper_lim) & (train_data[\"ADDCONTAMNT\"] > lower_lim)]\n",
    "\n",
    "factor = 3\n",
    "for i in col3:\n",
    "    upper_lim = train_data[i].mean () + train_data[i].std () * factor\n",
    "    lower_lim = train_data[i].mean () - train_data[i].std () * factor\n",
    "       \n",
    "    train_new = train_data[(train_data[i] < upper_lim) & (train_data[i] > lower_lim)]\n",
    "    print(i)\n",
    "    print(train_new[i].shape)\n",
    "\n"
   ]
  },
  {
   "cell_type": "code",
   "execution_count": null,
   "metadata": {},
   "outputs": [],
   "source": [
    "train_data.loc[train_data.CONTPAIDAMNT00.isnull()][\"ADDCONTAMNT\"].value_counts()\n",
    "#train_data.loc[train_data.CONTPAIDAMNT00.isnull()][\"ADDCONTAMNT\"]\n",
    "train_data[\"CONTPAIDAMNT00\"].value_counts().head(10)\n",
    "train_data.head(40)"
   ]
  },
  {
   "cell_type": "code",
   "execution_count": null,
   "metadata": {},
   "outputs": [],
   "source": [
    "train_data.loc[:,['ADDCONTAMNT','ACCAMNTAVG03','CRRASTALL','DESACCUAMNT','CONTPAIDAMNT00','CONTPAIDAMNT01','CONTPAIDAMNT02','CONTPAIDAMNT03','CONTPAIDAMNT04','CONTPAIDAMNT05','CONTPAIDAMNT06','CONTPAIDAMNT08','CONTPAIDAMNT09','CONTPAIDAMNT10','CONTPAIDAMNT11','CONTMONTHAMNT','RTRNDESVAMNT','CONTCOLLAMNT',\"LASTAUTOPAYTIME\",\"TIMEDEPAVG12\",\"BLNAMNT03\"]].isnull().sum()\n",
    "train_col.isnull().sum()"
   ]
  },
  {
   "cell_type": "code",
   "execution_count": null,
   "metadata": {},
   "outputs": [],
   "source": [
    "df1 = pd.DataFrame(train_data.loc[train_data.ADDCONTAMNT == 0].describe())"
   ]
  },
  {
   "cell_type": "code",
   "execution_count": null,
   "metadata": {},
   "outputs": [],
   "source": [
    "#train_data.loc[train_data.ADDCONTAMNT != 0, \"ADDCONTAMNT\"] = 1\n",
    "train_col.head()\n",
    "#train_col.isnull().sum()\n",
    "df2 = pd.DataFrame(train_data.loc[train_data.ADDCONTAMNT != 0].describe())"
   ]
  },
  {
   "cell_type": "code",
   "execution_count": null,
   "metadata": {},
   "outputs": [],
   "source": [
    "pd.set_option('display.float_format', lambda x: '%.3f' % x)\n",
    "pd.set_option(\"display.max_columns\",None)\n",
    "pd.concat([df1,df2], axis=0)"
   ]
  },
  {
   "cell_type": "code",
   "execution_count": null,
   "metadata": {},
   "outputs": [],
   "source": [
    "y = train_col[\"ADDCONTAMNT\"]\n",
    "train_col.drop(\"ADDCONTAMNT\", axis=1, inplace=True)\n",
    "#dates = train_data.iloc[:,1]\n",
    "##train_data = train_data.iloc[:,3:]\n",
    "##train_data = pd.concat([train_data,y],axis=1)\n",
    "#train_data = pd.concat([dates,train_data],axis=1)\n",
    "##test_data = test_input.iloc[:,2:]"
   ]
  },
  {
   "cell_type": "code",
   "execution_count": null,
   "metadata": {},
   "outputs": [],
   "source": [
    "train_col.head()"
   ]
  },
  {
   "cell_type": "code",
   "execution_count": null,
   "metadata": {},
   "outputs": [],
   "source": [
    "print(train_col.shape)\n",
    "print(test_col.shape)"
   ]
  },
  {
   "cell_type": "code",
   "execution_count": null,
   "metadata": {},
   "outputs": [],
   "source": [
    "test_col.head(20)\n"
   ]
  },
  {
   "cell_type": "code",
   "execution_count": null,
   "metadata": {},
   "outputs": [],
   "source": [
    "from sklearn.model_selection import train_test_split\n",
    "x_train, x_test, y_train, y_test = train_test_split(train_col, y, test_size=0.3, random_state=8)"
   ]
  },
  {
   "cell_type": "markdown",
   "metadata": {},
   "source": [
    "# Modelling"
   ]
  },
  {
   "cell_type": "code",
   "execution_count": null,
   "metadata": {},
   "outputs": [],
   "source": [
    "from sklearn.preprocessing import StandardScaler\n",
    "ss = StandardScaler()\n",
    "x_train = ss.fit_transform(x_train)\n",
    "x_test = ss.transform(x_test)\n"
   ]
  },
  {
   "cell_type": "code",
   "execution_count": null,
   "metadata": {},
   "outputs": [],
   "source": [
    "from sklearn.svm import SVR\n",
    "svr = SVR(kernel=\"linear\")\n",
    "svr.fit(x_train,y_train)\n",
    "svr_pred = svr.predict(x_test)\n",
    "print(\"R^2 Score: \" + str(r2_score(y_test,svr_pred)))\n",
    "print(\"RMSE: \" + str(mean_squared_error(y_test,svr_pred, squared=False)))"
   ]
  },
  {
   "cell_type": "code",
   "execution_count": null,
   "metadata": {},
   "outputs": [],
   "source": [
    "from sklearn.metrics import mean_squared_error, r2_score\n",
    "from sklearn.tree import DecisionTreeRegressor\n",
    "dtr = DecisionTreeRegressor(max_depth=7, criterion = \"mse\", min_samples_split = 10,min_samples_leaf= 10)\n",
    "dtr.fit(x_train,y_train)\n",
    "dtr_pred = dtr.predict(x_test)\n",
    "dtr3_pred = dtr.predict(test_col)\n",
    "print(\"1\")\n",
    "print(\"R^2 Score: \" + str(r2_score(y_test,dtr_pred)))\n",
    "print(\"RMSE: \" + str(mean_squared_error(y_test,dtr_pred, squared=False)))"
   ]
  },
  {
   "cell_type": "code",
   "execution_count": null,
   "metadata": {},
   "outputs": [],
   "source": [
    "\"\"\"\n",
    "dtr2_pred\n",
    "max_depth=7, criterion = \"mse\", min_samples_split = 2,min_samples_leaf= 15)  7369\n",
    "(max_depth=7, criterion = \"mse\", min_samples_split = 5,min_samples_leaf= 10) 7353\n",
    "(max_depth=7, criterion = \"mse\", min_samples_split = 10,min_samples_leaf= 10) 7353\n",
    "(max_depth=6, criterion = \"mse\", min_samples_split = 10,min_samples_leaf= 10) 7341\n",
    "max_depth=5, criterion = \"mse\", min_samples_split = 10,min_samples_leaf= 10) 7312\n",
    "(max_depth=4, criterion = \"mse\", min_samples_split = 10,min_samples_leaf= 10) 7302\n",
    "max_depth=4, criterion = \"mse\", min_samples_split = 7,min_samples_leaf= 10) 7302\n",
    "\"\"\""
   ]
  },
  {
   "cell_type": "code",
   "execution_count": null,
   "metadata": {},
   "outputs": [],
   "source": [
    "dtr2_pred"
   ]
  },
  {
   "cell_type": "code",
   "execution_count": null,
   "metadata": {},
   "outputs": [],
   "source": [
    "pd.DataFrame({\"test\":y_test, \"pred\":dtr_pred}).iloc[5550:6000]"
   ]
  },
  {
   "cell_type": "code",
   "execution_count": null,
   "metadata": {},
   "outputs": [],
   "source": [
    "from sklearn.model_selection import GridSearchCV\n",
    "dtr2 = DecisionTreeRegressor()\n",
    "p = {\"criterion\" : [\"mse\"], \n",
    "      \"max_depth\" : [None,10,20,50], \n",
    "      \"min_samples_split\":[2,10,20,40],\n",
    "      \"min_samples_leaf\":[2,20,40,100]      \n",
    "     }\n",
    "gs = GridSearchCV(dtr2, p, scoring = \"neg_mean_squared_error\", cv =5, n_jobs = -1 )\n",
    "grid_search = gs.fit(x_train, y_train)\n",
    "best = grid_search.best_score_\n",
    "bestparam = grid_search.best_params_"
   ]
  },
  {
   "cell_type": "code",
   "execution_count": null,
   "metadata": {},
   "outputs": [],
   "source": [
    "bestparam"
   ]
  },
  {
   "cell_type": "code",
   "execution_count": null,
   "metadata": {},
   "outputs": [],
   "source": [
    "from sklearn.ensemble import RandomForestRegressor\n",
    "rfr = RandomForestRegressor(max_depth=10 ,n_estimators = 200, criterion = \"mse\", min_samples_leaf=7, min_samples_split=10)\n",
    "rfr.fit(x_train,y_train)\n",
    "rfr_pred = rfr.predict(x_test)\n",
    "#rfr2_pred = rfr.predict(test_col)\n",
    "print(\"R^2 Score: \" + str(r2_score(y_test,rfr_pred)))\n",
    "print(\"RMSE: \" + str(mean_squared_error(y_test,rfr_pred, squared=False)))"
   ]
  },
  {
   "cell_type": "code",
   "execution_count": null,
   "metadata": {},
   "outputs": [],
   "source": [
    "for col in train_data.columns:\n",
    "    print(col, str(round(100* train_data[col].isnull().sum() / len(train_data), 2)) + '%')"
   ]
  },
  {
   "cell_type": "markdown",
   "metadata": {},
   "source": [
    "# try v2"
   ]
  },
  {
   "cell_type": "code",
   "execution_count": null,
   "metadata": {},
   "outputs": [],
   "source": [
    "train_mean = train_col.fillna(train_col.mean())\n",
    "test_mean = test_col.fillna(test_col.mean())\n",
    "\n",
    "train_median = train_col.fillna(train_col.median())\n",
    "test_median = test_col.fillna(test_col.median())\n"
   ]
  },
  {
   "cell_type": "code",
   "execution_count": null,
   "metadata": {},
   "outputs": [],
   "source": [
    "from sklearn.model_selection import train_test_split\n",
    "x_train, x_test, y_train, y_test = train_test_split(train_mean, y, test_size=0.3, random_state=8)"
   ]
  },
  {
   "cell_type": "code",
   "execution_count": null,
   "metadata": {},
   "outputs": [],
   "source": [
    "from sklearn.metrics import mean_squared_error, r2_score\n",
    "from sklearn.tree import DecisionTreeRegressor\n",
    "dtr = DecisionTreeRegressor(max_depth=None, criterion = \"mse\", min_samples_split = 7,min_samples_leaf= 5)\n",
    "dtr.fit(x_train,y_train)\n",
    "dtr_pred = dtr.predict(x_test)\n",
    "#dtr2_pred = dtr.predict(test_median)\n",
    "print(\"1\")\n",
    "print(\"R^2 Score: \" + str(r2_score(y_test,dtr_pred)))\n",
    "print(\"RMSE: \" + str(mean_squared_error(y_test,dtr_pred, squared=False)))\n",
    "\n",
    "dtr = DecisionTreeRegressor(max_depth=10, criterion = \"mse\", min_samples_split = 7,min_samples_leaf= 10)\n",
    "dtr.fit(x_train,y_train)\n",
    "dtr_pred2 = dtr.predict(x_test)\n",
    "#dtr2_pred = dtr.predict(test_median)\n",
    "print(\"2\")\n",
    "print(\"R^2 Score: \" + str(r2_score(y_test,dtr_pred2)))\n",
    "print(\"RMSE: \" + str(mean_squared_error(y_test,dtr_pred2, squared=False)))\n",
    "\n",
    "dtr = DecisionTreeRegressor(max_depth=None, criterion = \"mae\", min_samples_split = 7,min_samples_leaf= 10)\n",
    "dtr.fit(x_train,y_train)\n",
    "dtr_pred3 = dtr.predict(x_test)\n",
    "#dtr2_pred = dtr.predict(test_median)\n",
    "print(\"3\")\n",
    "print(\"R^2 Score: \" + str(r2_score(y_test,dtr_pred3)))\n",
    "print(\"RMSE: \" + str(mean_squared_error(y_test,dtr_pred3, squared=False)))\n",
    "\n",
    "dtr = DecisionTreeRegressor(max_depth=10, criterion = \"mse\", min_samples_split = 7,min_samples_leaf= 7)\n",
    "dtr.fit(x_train,y_train)\n",
    "dtr_pred4 = dtr.predict(x_test)\n",
    "#dtr2_pred = dtr.predict(test_median)\n",
    "print(\"4\")\n",
    "print(\"R^2 Score: \" + str(r2_score(y_test,dtr_pred4)))\n",
    "print(\"RMSE: \" + str(mean_squared_error(y_test,dtr_pred4, squared=False)))\n",
    "\n",
    "dtr = DecisionTreeRegressor(max_depth=None, criterion = \"mse\", min_samples_split = 7,min_samples_leaf= 3)\n",
    "dtr.fit(x_train,y_train)\n",
    "dtr_pred5 = dtr.predict(x_test)\n",
    "#dtr2_pred = dtr.predict(test_median)\n",
    "print(\"5\")\n",
    "print(\"R^2 Score: \" + str(r2_score(y_test,dtr_pred5)))\n",
    "print(\"RMSE: \" + str(mean_squared_error(y_test,dtr_pred5, squared=False)))\n"
   ]
  },
  {
   "cell_type": "code",
   "execution_count": null,
   "metadata": {},
   "outputs": [],
   "source": [
    "from sklearn.metrics import mean_squared_error, r2_score\n",
    "from sklearn.tree import DecisionTreeRegressor\n",
    "\n",
    "\n",
    "dtr = DecisionTreeRegressor(max_depth=None, criterion = \"mse\", min_samples_split = 7,min_samples_leaf= 10)\n",
    "dtr.fit(x_train,y_train)\n",
    "#dtr_pred3 = dtr.predict(x_test)\n",
    "dtr5_pred = dtr.predict(test_median)\n",
    "print(\"3\")\n",
    "#print(\"R^2 Score: \" + str(r2_score(y_test,dtr_pred3)))\n",
    "#print(\"RMSE: \" + str(mean_squared_error(y_test,dtr_pred3, squared=False)))"
   ]
  },
  {
   "cell_type": "code",
   "execution_count": null,
   "metadata": {},
   "outputs": [],
   "source": [
    "dtr = DecisionTreeRegressor(max_depth=10, criterion = \"mse\", min_samples_split = 7,min_samples_leaf= 7)\n",
    "dtr.fit(x_train,y_train)\n",
    "dtr_pred4 = dtr.predict(x_test)\n",
    "#dtr2_pred = dtr.predict(test_median)\n",
    "print(\"4\")\n",
    "print(\"R^2 Score: \" + str(r2_score(y_test,dtr_pred4)))\n",
    "print(\"RMSE: \" + str(mean_squared_error(y_test,dtr_pred4, squared=False)))\n",
    "\n",
    "dtr = DecisionTreeRegressor(max_depth=None, criterion = \"mse\", min_samples_split = 7,min_samples_leaf= 3)\n",
    "dtr.fit(x_train,y_train)\n",
    "dtr_pred5 = dtr.predict(x_test)\n",
    "#dtr2_pred = dtr.predict(test_median)\n",
    "print(\"5\")\n",
    "print(\"R^2 Score: \" + str(r2_score(y_test,dtr_pred5)))\n",
    "print(\"RMSE: \" + str(mean_squared_error(y_test,dtr_pred5, squared=False)))"
   ]
  },
  {
   "cell_type": "code",
   "execution_count": null,
   "metadata": {},
   "outputs": [],
   "source": [
    "dtr_pred2"
   ]
  },
  {
   "cell_type": "code",
   "execution_count": null,
   "metadata": {},
   "outputs": [],
   "source": [
    "dtr = DecisionTreeRegressor(max_depth=10, criterion = \"mse\", min_samples_split = 7,min_samples_leaf= 10)\n",
    "dtr.fit(x_train,y_train)\n",
    "dtr_pred2 = dtr.predict(x_test)\n",
    "#dtr2_pred = dtr.predict(test_median)\n",
    "print(\"2\")\n",
    "print(\"R^2 Score: \" + str(r2_score(y_test,dtr_pred2)))\n",
    "print(\"RMSE: \" + str(mean_squared_error(y_test,dtr_pred2, squared=False)))"
   ]
  },
  {
   "cell_type": "code",
   "execution_count": null,
   "metadata": {},
   "outputs": [],
   "source": [
    "dtr = DecisionTreeRegressor(max_depth=None, criterion = \"mse\", min_samples_split = 2,min_samples_leaf= 7)\n",
    "dtr.fit(x_train,y_train)\n",
    "dtr_pred6 = dtr.predict(x_test)\n",
    "#dtr2_pred = dtr.predict(test_median)\n",
    "print(\"2\")\n",
    "print(\"R^2 Score: \" + str(r2_score(y_test,dtr_pred6)))\n",
    "print(\"RMSE: \" + str(mean_squared_error(y_test,dtr_pred6, squared=False)))"
   ]
  },
  {
   "cell_type": "markdown",
   "metadata": {},
   "source": [
    "### predict düzenleme"
   ]
  },
  {
   "cell_type": "code",
   "execution_count": null,
   "metadata": {},
   "outputs": [],
   "source": [
    "dtr3_pred = dtr_pred3.copy()\n",
    "#dtr3_pred.loc[dtr3_pred.pred < 260, \"pred\"] = 0\n"
   ]
  },
  {
   "cell_type": "code",
   "execution_count": null,
   "metadata": {},
   "outputs": [],
   "source": [
    "dtr3_pred[dtr3_pred[\"pred\"] == 0].shape"
   ]
  },
  {
   "cell_type": "code",
   "execution_count": null,
   "metadata": {},
   "outputs": [],
   "source": [
    "dtr3_pred = dtr3_pred.rename(columns= {0:\"pred\"})"
   ]
  },
  {
   "cell_type": "code",
   "execution_count": null,
   "metadata": {},
   "outputs": [],
   "source": [
    "max_depth=None, criterion = \"mse\", min_samples_split = 2,min_samples_leaf= 7"
   ]
  },
  {
   "cell_type": "code",
   "execution_count": null,
   "metadata": {},
   "outputs": [],
   "source": [
    "dtr3_pred = pd.DataFrame(dtr3_pred,y_test)"
   ]
  },
  {
   "cell_type": "code",
   "execution_count": null,
   "metadata": {},
   "outputs": [],
   "source": [
    "#dtr3_pred.head(50)\n",
    "\n",
    "dtr3_pred = pd.Series(dtr3_pred[\"pred\"])"
   ]
  },
  {
   "cell_type": "code",
   "execution_count": null,
   "metadata": {},
   "outputs": [],
   "source": [
    "from sklearn.model_selection import GridSearchCV\n",
    "p = {\"criterion\" : [\"mse\", \"friedman_mse\", \"mae\"], \n",
    "      \"max_depth\" : [None, 2,3,4,5,6,7,8,9,10], \n",
    "      \"min_samples_split\":[2,5,10,20,40],\n",
    "      \"min_samples_leaf\":[2,20,40,100]      \n",
    "     }\n",
    "gs = GridSearchCV(dtr, p, scoring = \"neg_mean_squared_error\", cv =5, n_jobs = -1 )\n",
    "gs.fit(x_train, y_train)\n",
    "#best = grid_search.best_score_             #   // en iyi scoreu verir\n",
    "#bestparam = grid_search.best_params_ # // en iyi çalıştığı parametreleri verir"
   ]
  },
  {
   "cell_type": "markdown",
   "metadata": {},
   "source": [
    "### Classification denemesi"
   ]
  },
  {
   "cell_type": "code",
   "execution_count": null,
   "metadata": {},
   "outputs": [],
   "source": [
    "from sklearn.metrics import mean_squared_error, r2_score, confusion_matrix\n",
    "from sklearn.linear_model import LogisticRegression\n",
    "logreg = LogisticRegression(random_state = 0)\n",
    "logreg.fit(x_train, y_train)\n",
    "logreg_pred = logreg.predict(x_test)\n",
    "\n",
    "print(\"R^2 Score: \" + str(r2_score(y_test,logreg_pred)))\n",
    "print(\"RMSE: \" + str(mean_squared_error(y_test,logreg_pred, squared=False)))\n",
    "print(\"Confusion matrix:\")\n",
    "print(confusion_matrix(y_test,logreg_pred))\n"
   ]
  },
  {
   "cell_type": "code",
   "execution_count": null,
   "metadata": {},
   "outputs": [],
   "source": [
    "from sklearn.tree import DecisionTreeClassifier\n",
    "dtc = DecisionTreeClassifier(max_depth= 7, criterion = \"entropy\")\n",
    "dtc.fit(x_train,y_train)\n",
    "dtc_pred = dtc.predict(x_test)\n",
    "\n",
    "print(\"R^2 Score: \" + str(r2_score(y_test,dtc_pred)))\n",
    "print(\"RMSE: \" + str(mean_squared_error(y_test,dtc_pred, squared=False)))\n",
    "print(\"Confusion matrix:\")\n",
    "print(confusion_matrix(y_test,dtc_pred))"
   ]
  },
  {
   "cell_type": "code",
   "execution_count": null,
   "metadata": {},
   "outputs": [],
   "source": [
    "from sklearn.model_selection import GridSearchCV\n",
    "dtc = DecisionTreeClassifier()\n",
    "p = { \"criterion\" : [\"gini\", \"entropy\"], \n",
    "      \"max_depth\" : [None, 2,7,20], \n",
    "      \"min_samples_split\":[2,7,40],\n",
    "      \"min_samples_leaf\":[2,10,40]      \n",
    "     }\n",
    "gs = GridSearchCV(dtc, p, scoring = \"neg_mean_squared_error\", cv =5, n_jobs = -1 )\n",
    "grid_search = gs.fit(x_train, y_train)\n",
    "best = grid_search.best_score_  \n",
    "bestparam = grid_search.best_params_ \n",
    "\n",
    "print(best)\n",
    "print(bestparam)"
   ]
  },
  {
   "cell_type": "code",
   "execution_count": null,
   "metadata": {},
   "outputs": [],
   "source": [
    "bestparam"
   ]
  },
  {
   "cell_type": "code",
   "execution_count": null,
   "metadata": {},
   "outputs": [],
   "source": [
    "dtc2 = DecisionTreeClassifier(criterion = \"gini\", max_depth=7, min_samples_leaf = 40, min_samples_split = 2)\n",
    "dtc2.fit(x_train,y_train)\n",
    "dtc_pred = dtc2.predict(x_test)\n",
    "\n",
    "print(\"R^2 Score: \" + str(r2_score(y_test,dtc_pred)))\n",
    "print(\"RMSE: \" + str(mean_squared_error(y_test,dtc_pred, squared=False)))\n",
    "print(\"Confusion matrix:\")\n",
    "print(confusion_matrix(y_test,dtc_pred))"
   ]
  },
  {
   "cell_type": "code",
   "execution_count": null,
   "metadata": {},
   "outputs": [],
   "source": []
  }
 ],
 "metadata": {
  "kernelspec": {
   "display_name": "Python 3",
   "language": "python",
   "name": "python3"
  },
  "language_info": {
   "codemirror_mode": {
    "name": "ipython",
    "version": 3
   },
   "file_extension": ".py",
   "mimetype": "text/x-python",
   "name": "python",
   "nbconvert_exporter": "python",
   "pygments_lexer": "ipython3",
   "version": "3.8.3"
  }
 },
 "nbformat": 4,
 "nbformat_minor": 4
}
