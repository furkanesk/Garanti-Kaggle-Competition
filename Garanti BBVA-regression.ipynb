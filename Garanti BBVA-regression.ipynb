{
 "cells": [
  {
   "cell_type": "code",
   "execution_count": null,
   "metadata": {},
   "outputs": [],
   "source": [
    "import pandas as pd\n",
    "import numpy as np\n",
    "import matplotlib.pyplot as plt\n",
    "import seaborn as sns\n",
    "pd.set_option('float_format', '{:f}'.format)"
   ]
  },
  {
   "cell_type": "code",
   "execution_count": null,
   "metadata": {},
   "outputs": [],
   "source": [
    "train_data = pd.read_csv(\"C://Users/Furkan/Desktop/onlinedatasciencechallenge/train.csv\")\n",
    "test_input = pd.read_csv(\"C://Users/Furkan/Desktop/onlinedatasciencechallenge/test_input.csv\")\n",
    "\n",
    "\n",
    "## corr 0.1 üzerindekiler\n",
    "columns2 = ['ADDCONTAMNT','ACCAMNTAVG03', 'CRRASTALL', 'DESACCUAMNT',\n",
    "            'CONTPAIDAMNT00', 'CONTPAIDAMNT01', 'CONTPAIDAMNT02',\n",
    "       'CONTPAIDAMNT03', 'CONTPAIDAMNT04', 'CONTPAIDAMNT05', 'CONTPAIDAMNT06',\n",
    "       'CONTPAIDAMNT08', 'CONTPAIDAMNT09', 'CONTPAIDAMNT10', 'CONTPAIDAMNT11',\n",
    "       'CONTMONTHAMNT', 'RTRNDESVAMNT', 'CONTCOLLAMNT']\n",
    "testcolumns2 = ['ACCAMNTAVG03', 'CRRASTALL', 'DESACCUAMNT',\n",
    "            'CONTPAIDAMNT00', 'CONTPAIDAMNT01', 'CONTPAIDAMNT02',\n",
    "       'CONTPAIDAMNT03', 'CONTPAIDAMNT04', 'CONTPAIDAMNT05', 'CONTPAIDAMNT06',\n",
    "       'CONTPAIDAMNT08', 'CONTPAIDAMNT09', 'CONTPAIDAMNT10', 'CONTPAIDAMNT11',\n",
    "       'CONTMONTHAMNT', 'RTRNDESVAMNT', 'CONTCOLLAMNT']\n",
    "\n",
    "## corr 0.095 üzerindekiler\n",
    "columns21 = ['ADDCONTAMNT','ACCAMNTAVG03', 'CRRASTALL', 'DESACCUAMNT',\n",
    "            'CONTPAIDAMNT00', 'CONTPAIDAMNT01', 'CONTPAIDAMNT02',\n",
    "       'CONTPAIDAMNT03', 'CONTPAIDAMNT04', 'CONTPAIDAMNT05', 'CONTPAIDAMNT06',\n",
    "       'CONTPAIDAMNT08', 'CONTPAIDAMNT09', 'CONTPAIDAMNT10', 'CONTPAIDAMNT11',\n",
    "       'CONTMONTHAMNT', 'RTRNDESVAMNT', 'CONTCOLLAMNT',\"MAXMATEVR\",\"MAXTIMECONTR\"]\n",
    "\n",
    "testcolumns21 = ['ACCAMNTAVG03', 'CRRASTALL', 'DESACCUAMNT',\n",
    "            'CONTPAIDAMNT00', 'CONTPAIDAMNT01', 'CONTPAIDAMNT02',\n",
    "       'CONTPAIDAMNT03', 'CONTPAIDAMNT04', 'CONTPAIDAMNT05', 'CONTPAIDAMNT06',\n",
    "       'CONTPAIDAMNT08', 'CONTPAIDAMNT09', 'CONTPAIDAMNT10', 'CONTPAIDAMNT11',\n",
    "       'CONTMONTHAMNT', 'RTRNDESVAMNT', 'CONTCOLLAMNT',\"MAXMATEVR\",\"MAXTIMECONTR\"]\n",
    "\n",
    "# fillna kolonlar\n",
    "col3 = ['ACCAMNTAVG03','CONTPAIDAMNT00', 'CONTPAIDAMNT01', 'CONTPAIDAMNT02',\n",
    "       'CONTPAIDAMNT03', 'CONTPAIDAMNT04', 'CONTPAIDAMNT05', 'CONTPAIDAMNT06',\n",
    "       'CONTPAIDAMNT08', 'CONTPAIDAMNT09', 'CONTPAIDAMNT10', 'CONTPAIDAMNT11',\"CRRASTALL\"]\n",
    "\n",
    "#final columns\n",
    "lastcolumns2 = ['ADDCONTAMNT', 'ACCMVMTAVG', 'ACCAMNTAVG03',\n",
    "       'ACCACVNUM12', 'ACCAMNTAVG12', 'CARDDINSUM12', 'DISTNUM12',\n",
    "       'INTPHNNUM03', 'INTLOGNUM12', 'DEMINFO1', 'DEMINFO2', 'BLNAMNT03',\n",
    "       'CRRASTALL', 'ASTAVGDIF0312', 'EFTAMNTSUM12', 'MAXMATEVR', 'DEBTAVG00',\n",
    "       'LSTPRDCNUM', 'DESACCUAMNT', 'CONTPAIDAMNT00', 'CONTPAIDAMNT01',\n",
    "       'CONTPAIDAMNT02', 'CONTPAIDAMNT03', 'CONTPAIDAMNT04', 'CONTPAIDAMNT05',\n",
    "       'CONTPAIDAMNT06', 'CONTPAIDAMNT08', 'CONTPAIDAMNT09',\n",
    "       'CONTPAIDAMNT10', 'CONTPAIDAMNT11', 'CONTDEBTNUM', 'CONTMONTHAMNT',\n",
    "       'RTRNDESVAMNT', 'MAXTIMECONTR', 'CONTCOLLAMNT', 'LASTAUTOPAYTIME',\n",
    "       'TIMEDEPAVG12']\n",
    "\n",
    "testlastcolumns2 = ['ACCMVMTAVG', 'ACCAMNTAVG03',\n",
    "       'ACCACVNUM12', 'ACCAMNTAVG12', 'CARDDINSUM12', 'DISTNUM12',\n",
    "       'INTPHNNUM03', 'INTLOGNUM12', 'DEMINFO1', 'DEMINFO2', 'BLNAMNT03',\n",
    "       'CRRASTALL', 'ASTAVGDIF0312', 'EFTAMNTSUM12', 'MAXMATEVR', 'DEBTAVG00',\n",
    "       'LSTPRDCNUM', 'DESACCUAMNT', 'CONTPAIDAMNT00', 'CONTPAIDAMNT01',\n",
    "       'CONTPAIDAMNT02', 'CONTPAIDAMNT03', 'CONTPAIDAMNT04', 'CONTPAIDAMNT05',\n",
    "       'CONTPAIDAMNT06', 'CONTPAIDAMNT08', 'CONTPAIDAMNT09',\n",
    "       'CONTPAIDAMNT10', 'CONTPAIDAMNT11', 'CONTDEBTNUM', 'CONTMONTHAMNT',\n",
    "       'RTRNDESVAMNT', 'MAXTIMECONTR', 'CONTCOLLAMNT', 'LASTAUTOPAYTIME',\n",
    "       'TIMEDEPAVG12']\n",
    "\n",
    "train_col = train_data[lastcolumns2]\n",
    "test_col = test_input[testlastcolumns2]"
   ]
  },
  {
   "cell_type": "code",
   "execution_count": null,
   "metadata": {},
   "outputs": [],
   "source": [
    "train_data.isnull().sum()"
   ]
  },
  {
   "cell_type": "code",
   "execution_count": null,
   "metadata": {},
   "outputs": [],
   "source": [
    "train_data.corr().abs().ADDCONTAMNT"
   ]
  },
  {
   "cell_type": "code",
   "execution_count": null,
   "metadata": {},
   "outputs": [],
   "source": [
    "train_data.describe()"
   ]
  },
  {
   "cell_type": "code",
   "execution_count": null,
   "metadata": {},
   "outputs": [],
   "source": [
    "train_col.describe()"
   ]
  },
  {
   "cell_type": "code",
   "execution_count": null,
   "metadata": {},
   "outputs": [],
   "source": [
    "train_new.shape"
   ]
  },
  {
   "cell_type": "markdown",
   "metadata": {},
   "source": [
    "## fillna"
   ]
  },
  {
   "cell_type": "code",
   "execution_count": null,
   "metadata": {},
   "outputs": [],
   "source": [
    "#lastv1 de bunu kullan\n",
    "\n",
    "train_col.fillna(train_data.median(),inplace=True)\n",
    "test_col.fillna(test_input.median(),inplace=True)"
   ]
  },
  {
   "cell_type": "code",
   "execution_count": null,
   "metadata": {},
   "outputs": [],
   "source": [
    "for i in col3:\n",
    "    real_med = train_col[i].median()\n",
    "    real_med2 = test_col[i].median()\n",
    "    median = train_col.loc[train_col[\"ADDCONTAMNT\"] == 0].median()[i]\n",
    "    train_col.loc[train_col[i].isnull(), i] = median\n",
    "    test_col.loc[test_col[i].isnull(), i] = median\n",
    "    print(f\"{i} ->> Gerçek median:{real_med}  | iyileştirilmiş median: {median} \")\n",
    "    print(f\"{i} ->> Gerçek median:{real_med2}  | iyileştirilmiş median: {median} \")\n",
    "    print(\"-------------------------------------------------------------------\")\n",
    "\n",
    "    \n",
    "\n",
    "train_col.loc[train_col[\"CRRASTALL\"].isnull(), \"CRRASTALL\"] = train_col[\"CRRASTALL\"].median()\n",
    "test_col.loc[test_col[\"CRRASTALL\"].isnull(), \"CRRASTALL\"] = test_col[\"CRRASTALL\"].median()\n",
    "\n",
    "#DEBTAVG00 ->> Gerçek median:35303.691019678845  | iyileştirilmiş median: 35830.80594229751 \n"
   ]
  },
  {
   "cell_type": "markdown",
   "metadata": {},
   "source": [
    "### z-score"
   ]
  },
  {
   "cell_type": "code",
   "execution_count": null,
   "metadata": {},
   "outputs": [],
   "source": [
    "#Dropping the outlier rows with standard deviation z-score\n",
    "factor = 3\n",
    "for i in col5:\n",
    "    upper_lim = train_col[i].mean () + train_col[i].std () * factor\n",
    "    lower_lim = train_col[i].mean () - train_col[i].std () * factor\n",
    "    \n",
    "    train_new[i] = train_col[(train_col[i] < upper_lim) & (train_col[i] > lower_lim)]\n",
    "    "
   ]
  },
  {
   "cell_type": "markdown",
   "metadata": {},
   "source": [
    "### quantile"
   ]
  },
  {
   "cell_type": "code",
   "execution_count": null,
   "metadata": {},
   "outputs": [],
   "source": [
    "Q1 = train_col[testlastcolumns2].quantile(0.01)\n",
    "Q3 = train_col[testlastcolumns2].quantile(0.99)\n",
    "\n",
    "train_col = train_col[~(train_col[testlastcolumns2] > (Q3)).any(axis=1)]"
   ]
  },
  {
   "cell_type": "code",
   "execution_count": null,
   "metadata": {},
   "outputs": [],
   "source": [
    "y = train_col[\"ADDCONTAMNT\"]\n",
    "train_col.drop(\"ADDCONTAMNT\", axis=1, inplace=True)"
   ]
  },
  {
   "cell_type": "code",
   "execution_count": null,
   "metadata": {},
   "outputs": [],
   "source": [
    "test_col.shape"
   ]
  },
  {
   "cell_type": "code",
   "execution_count": null,
   "metadata": {},
   "outputs": [],
   "source": [
    "from sklearn.model_selection import train_test_split\n",
    "x_train, x_test, y_train, y_test = train_test_split(train_col, y, test_size=0.3, random_state=8)"
   ]
  },
  {
   "cell_type": "markdown",
   "metadata": {},
   "source": [
    "# Modelling\n",
    "\n",
    "direct regression"
   ]
  },
  {
   "cell_type": "code",
   "execution_count": null,
   "metadata": {},
   "outputs": [],
   "source": [
    "from xgboost import XGBRegressor\n",
    "\n",
    "xgboost_model.fit(x_train, y_train)\n",
    "dtr_pred = xgboost_model.predict(x_test)\n",
    "\n",
    "print(\"R^2 Score: \" + str(r2_score(y_test,dtr_pred)))\n",
    "print(\"RMSE: \" + str(mean_squared_error(y_test,dtr_pred, squared=False)))"
   ]
  },
  {
   "cell_type": "code",
   "execution_count": null,
   "metadata": {},
   "outputs": [],
   "source": [
    "from sklearn.preprocessing import MinMaxScaler\n",
    "mm = MinMaxScaler()\n",
    "x_train = mm.fit_transform(x_train)\n",
    "x_test = mm.transform(x_test)"
   ]
  },
  {
   "cell_type": "code",
   "execution_count": null,
   "metadata": {},
   "outputs": [],
   "source": [
    "from sklearn.preprocessing import RobustScaler\n",
    "mm = RobustScaler()\n",
    "x_train = mm.fit_transform(x_train)\n",
    "x_test = mm.transform(x_test)"
   ]
  },
  {
   "cell_type": "code",
   "execution_count": null,
   "metadata": {},
   "outputs": [],
   "source": [
    "test_col = mm.transform(test_col)"
   ]
  },
  {
   "cell_type": "code",
   "execution_count": null,
   "metadata": {},
   "outputs": [],
   "source": [
    "test_col"
   ]
  },
  {
   "cell_type": "code",
   "execution_count": null,
   "metadata": {},
   "outputs": [],
   "source": [
    "x_train.describe()"
   ]
  },
  {
   "cell_type": "code",
   "execution_count": null,
   "metadata": {},
   "outputs": [],
   "source": []
  },
  {
   "cell_type": "markdown",
   "metadata": {},
   "source": [
    "### DecisionTree\n",
    "\n",
    "Dont use"
   ]
  },
  {
   "cell_type": "code",
   "execution_count": null,
   "metadata": {},
   "outputs": [],
   "source": [
    "from sklearn.metrics import mean_squared_error, r2_score\n",
    "from sklearn.tree import DecisionTreeRegressor\n",
    "dtr = DecisionTreeRegressor(max_depth=10, criterion = \"mse\", min_samples_split =10,min_samples_leaf= 40)\n",
    "dtr.fit(x_train,y_train)\n",
    "dtr_pred = dtr.predict(x_test)\n",
    "dtr2_pred = dtr.predict(test_col)\n",
    "print(\"1\")\n",
    "print(\"R^2 Score: \" + str(r2_score(y_test,dtr_pred)))\n",
    "print(\"RMSE: \" + str(mean_squared_error(y_test,dtr_pred, squared=False)))"
   ]
  },
  {
   "cell_type": "markdown",
   "metadata": {},
   "source": [
    "## Modelling"
   ]
  },
  {
   "cell_type": "code",
   "execution_count": null,
   "metadata": {},
   "outputs": [],
   "source": [
    "import time\n",
    "start_time = time.time()\n",
    "print(start_time)\n",
    "from sklearn.tree import DecisionTreeRegressor\n",
    "dtr2 = DecisionTreeRegressor()\n",
    "from sklearn.metrics import r2_score, mean_squared_error\n",
    "xgb = XGBRegressor()\n",
    "\n",
    "param_grid = {\n",
    "    'bootstrap': [True],\n",
    "    'max_depth': [80],\n",
    "    'max_features': [3],\n",
    "    'min_samples_leaf': [4],\n",
    "    'min_samples_split': [8],\n",
    "    'n_estimators': [200]\n",
    "}\n",
    "param_xgb = {\n",
    "     \"eta\"    : [0.10] ,\n",
    "     \"max_depth\"        : [8],\n",
    "     \"min_child_weight\" : [ 1],\n",
    "     \"gamma\"            : [ 0.0],\n",
    "     \"colsample_bytree\" : [ 0.3]\n",
    "     }\n",
    "\n",
    "\n",
    "from sklearn.ensemble import RandomForestRegressor\n",
    "rf2 = RandomForestRegressor()\n",
    "from sklearn.model_selection import GridSearchCV\n",
    "#p1 = [{\"criterion\": [\"mse\"],\"max_depth\" :[10] ,\"min_samples_split\":[2,10,16,20,30],\"min_samples_leaf\":[2,15,10,25,20,35,30,40,50]}]\n",
    "p2 = [{\"criterion\": [\"mse\"],\"n_estimators\":[100] ,\"max_depth\" :[10] ,\"min_samples_split\":[16],\"min_samples_leaf\":[10]}]\n",
    "gs = GridSearchCV(estimator = xgb, param_grid = param_xgb, scoring = \"neg_root_mean_squared_error\", cv =5, n_jobs = -1 )\n",
    "grid_search = gs.fit(x_train, y_train)\n",
    "pred = gs.predict(test_col)\n",
    "end_time = time.time()\n",
    "print(f\"Start time: {start_time}, End time: {end_time}\")\n",
    "print(\"--- %s seconds ---\" % (end_time - start_time))\n",
    "print(f\"Best params: {grid_search.best_params_}\")\n",
    "print(f\"Best score: {grid_search.best_score_}\")"
   ]
  },
  {
   "cell_type": "code",
   "execution_count": null,
   "metadata": {},
   "outputs": [],
   "source": [
    "\"\"\"\n",
    "XGBoost\n",
    "Start time: 1605512025.8065867, End time: 1605532765.2413712\n",
    "--- 20739.434784412384 seconds ---\n",
    "Best params: {'colsample_bytree': 0.3, 'eta': 0.1, 'gamma': 0.0, 'max_depth': 8, 'min_child_weight': 1}\n",
    "Best score: -7177.751018566953\n",
    "\n",
    "\n",
    "Robust scaler with 0.095 columns:\n",
    "Start time: 1605493062.162035, End time: 1605501099.143953\n",
    "--- 8036.981918096542 seconds ---\n",
    "Best params: {'bootstrap': True, 'max_depth': 80, 'max_features': 4, 'min_samples_leaf': 5, 'min_samples_split': 12, 'n_estimators': 200}\n",
    "Best score: -2879.950782842926\n",
    "\n",
    "param_grid = {\n",
    "    'bootstrap': [True],\n",
    "    'max_depth': [60, 80, 100],\n",
    "    'max_features': [2, 3, 4],\n",
    "    'min_samples_leaf': [3, 4, 5],\n",
    "    'min_samples_split': [8, 10, 12],\n",
    "    'n_estimators': [200]\n",
    "}\n",
    "\n",
    "min max scaler with all columns\n",
    "Start time: 1605479100.5049758, End time: 1605483432.2856908\n",
    "--- 4331.7807149887085 seconds --- 72dk\n",
    "Best params: {'bootstrap': True, 'max_depth': 80, 'max_features': 3, 'min_samples_leaf': 4, 'min_samples_split': 8, 'n_estimators': 200}\n",
    "Best score: -2801.6527457622974\n",
    "\"\"\""
   ]
  },
  {
   "cell_type": "code",
   "execution_count": null,
   "metadata": {},
   "outputs": [],
   "source": [
    "pred"
   ]
  },
  {
   "cell_type": "markdown",
   "metadata": {},
   "source": [
    "### Save CSV"
   ]
  },
  {
   "cell_type": "code",
   "execution_count": null,
   "metadata": {},
   "outputs": [],
   "source": [
    "output = pd.DataFrame({'Id': test_input[\"CUSTNBR\"], 'Predicted': pred})\n",
    "output.to_csv('grnt5.csv', index=False)\n",
    "print(\"Your submission was successfully saved!\")"
   ]
  },
  {
   "cell_type": "code",
   "execution_count": null,
   "metadata": {},
   "outputs": [],
   "source": [
    "output.head()"
   ]
  }
 ],
 "metadata": {
  "kernelspec": {
   "display_name": "Python 3",
   "language": "python",
   "name": "python3"
  },
  "language_info": {
   "codemirror_mode": {
    "name": "ipython",
    "version": 3
   },
   "file_extension": ".py",
   "mimetype": "text/x-python",
   "name": "python",
   "nbconvert_exporter": "python",
   "pygments_lexer": "ipython3",
   "version": "3.8.3"
  }
 },
 "nbformat": 4,
 "nbformat_minor": 4
}
